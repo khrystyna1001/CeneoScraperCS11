{
 "cells": [
  {
   "cell_type": "markdown",
   "metadata": {},
   "source": [
    "### Imports"
   ]
  },
  {
   "cell_type": "code",
   "execution_count": null,
   "metadata": {},
   "outputs": [],
   "source": [
    "import requests\n",
    "import os\n",
    "import json\n",
    "from bs4 import BeautifulSoup"
   ]
  },
  {
   "cell_type": "markdown",
   "metadata": {},
   "source": [
    "### Utils"
   ]
  },
  {
   "cell_type": "code",
   "execution_count": null,
   "metadata": {},
   "outputs": [],
   "source": [
    "def extract(ancestor, selector, attribute=None, index=False):\n",
    "    if index:\n",
    "        if attribute:\n",
    "            return [tag[attribute] for tag in (ancestor.select(selector))]\n",
    "        return [tag.get_text() for tag in (ancestor.select(selector))]\n",
    "    if attribute:\n",
    "        try:\n",
    "            return str(ancestor.select_one(selector)[attribute].get_text())\n",
    "        except TypeError:\n",
    "            return None\n",
    "    try:\n",
    "        return str(ancestor.select_one(selector).get_text())\n",
    "    except AttributeError:\n",
    "        return None"
   ]
  },
  {
   "cell_type": "markdown",
   "metadata": {},
   "source": [
    "### Exraction of opinions"
   ]
  },
  {
   "cell_type": "code",
   "execution_count": null,
   "metadata": {},
   "outputs": [],
   "source": [
    "with open('./cookie.json', 'r') as file:\n",
    "    headers = json.load(file)"
   ]
  },
  {
   "cell_type": "code",
   "execution_count": null,
   "metadata": {},
   "outputs": [],
   "source": [
    "product_id = '84514582'\n",
    "next_page = f'https://www.ceneo.pl/{product_id}#tab=reviews'\n",
    "all_opinions = []\n",
    "while next_page:\n",
    "    response = requests.get(next_page, headers=headers)\n",
    "    if response.status_code == 200:\n",
    "        page_dom = BeautifulSoup(response.text, 'html.parser')\n",
    "        for opinion in opinions:\n",
    "            single_opinion = {}\n",
    "            single_opinion[\"option-id\"] = opinion[\"data-entry-id\"]\n",
    "            single_opinion[\"author\"] = extract(opinion, \"span.user-post__author-name\")\n",
    "            single_opinion[\"recommendation\"] = extract(opinion, \"span.user-post__author-recomendation > em\")\n",
    "            single_opinion[\"stars\"] = extract(opinion, \"span.user-post__score-count\")\n",
    "            single_opinion[\"content\"] = extract(opinion, \"div.user-post__text\")\n",
    "            single_opinion[\"pros\"] = extract(opinion, \"div.review-feature__item--positive\", None, True)\n",
    "            single_opinion[\"cons\"] = extract(opinion, \"div.review-feature__item--negative\", None, True)\n",
    "            single_opinion[\"vote_yes\"] = extract(opinion, \"button.vote-yes\", \"data-total-vote\")\n",
    "            single_opinion[\"vote_no\"] = extract(opinion, \"button.vote-no\", \"data-total-vote\")\n",
    "            single_opinion[\"published_at\"] = extract(opinion, \"span.user-post__published > time:nth-child(1)\", \"datetime\")\n",
    "            single_opinion[\"purchased_at\"] = extract(opinion, \"span.user-post__published > time:nth-child(2)\", \"datetime\")\n",
    "            all_opinions.append(single_opinion)\n",
    "        try:\n",
    "            next_page = \"https://www.ceneo.pl\" + page_dom.select_one(\"a.pagination__next\")[\"href\"]\n",
    "        except AttributeError:\n",
    "            next_page = None\n",
    "        except TypeError:\n",
    "            next_page = None\n",
    "print(all_opinions)"
   ]
  },
  {
   "cell_type": "code",
   "execution_count": null,
   "metadata": {},
   "outputs": [],
   "source": [
    "if not os.path.exists('./opinions'):\n",
    "    os.mkdir('./opinions')\n",
    "with open(f\"./opinions/{product_id}.json\", 'w', encoding='UTF-8') as file:\n",
    "    json.dump(all_opinions, file, ensure_ascii=False, indent=4)"
   ]
  }
 ],
 "metadata": {
  "kernelspec": {
   "display_name": ".venv",
   "language": "python",
   "name": "python3"
  },
  "language_info": {
   "codemirror_mode": {
    "name": "ipython",
    "version": 3
   },
   "file_extension": ".py",
   "mimetype": "text/x-python",
   "name": "python",
   "nbconvert_exporter": "python",
   "pygments_lexer": "ipython3",
   "version": "3.11.4"
  }
 },
 "nbformat": 4,
 "nbformat_minor": 2
}
